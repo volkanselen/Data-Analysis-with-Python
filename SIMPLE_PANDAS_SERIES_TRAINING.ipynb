{
  "nbformat": 4,
  "nbformat_minor": 0,
  "metadata": {
    "colab": {
      "provenance": []
    },
    "kernelspec": {
      "name": "python3",
      "display_name": "Python 3"
    },
    "language_info": {
      "name": "python"
    }
  },
  "cells": [
    {
      "cell_type": "code",
      "execution_count": 1,
      "metadata": {
        "id": "RzBioqVlTsrY"
      },
      "outputs": [],
      "source": [
        "import numpy as np\n",
        "import pandas as pd"
      ]
    },
    {
      "cell_type": "markdown",
      "source": [
        "# Series alıştıma"
      ],
      "metadata": {
        "id": "46UUI3_HLn_d"
      }
    },
    {
      "cell_type": "markdown",
      "source": [
        "İndexleri default \"Ali\", \"Sibel\", ve kendi isminizden oluşan 3 değerlik bir series oluşturun."
      ],
      "metadata": {
        "id": "_l_7lHM5LsDL"
      }
    },
    {
      "cell_type": "code",
      "source": [
        "isim=pd.Series([\"Ali\",\"Sibel\",\"Volkan\"])\n",
        "isim"
      ],
      "metadata": {
        "colab": {
          "base_uri": "https://localhost:8080/"
        },
        "id": "8tq8AZ7nLqZF",
        "outputId": "8ae48606-ed99-41a2-8ad6-f73721cfc969"
      },
      "execution_count": 2,
      "outputs": [
        {
          "output_type": "execute_result",
          "data": {
            "text/plain": [
              "0       Ali\n",
              "1     Sibel\n",
              "2    Volkan\n",
              "dtype: object"
            ]
          },
          "metadata": {},
          "execution_count": 2
        }
      ]
    },
    {
      "cell_type": "markdown",
      "source": [
        "Soru 2 : Indexleri \"A\" , \"B\" , \"C\" , \"D\" olan ve değerleri 10,20,30,40 olan bir series oluşturun."
      ],
      "metadata": {
        "id": "Qn0kYu2zMcfD"
      }
    },
    {
      "cell_type": "code",
      "source": [
        "deger=pd.Series([10,20,30,40],index=[\"A\",\"B\",\"C\",\"D\"])\n",
        "deger"
      ],
      "metadata": {
        "colab": {
          "base_uri": "https://localhost:8080/"
        },
        "id": "k5iyMHTvL9Jz",
        "outputId": "50418f2e-425d-4dc3-98b7-03fee9f761a1"
      },
      "execution_count": 3,
      "outputs": [
        {
          "output_type": "execute_result",
          "data": {
            "text/plain": [
              "A    10\n",
              "B    20\n",
              "C    30\n",
              "D    40\n",
              "dtype: int64"
            ]
          },
          "metadata": {},
          "execution_count": 3
        }
      ]
    },
    {
      "cell_type": "markdown",
      "source": [
        "Soru 3 : İndexlerinde \"Breaking Bad\" , \"Chernobyl\" , \"Leyla ile Mecnun\" , \"X-Men\"  , \"Captain America\"  , \"Disaster Movie\" olan\n",
        "\n",
        "   Datasında ise 9.4 , 9.3 , 8.8 , 8.4 , 3.8 , 2.1 olan bir seri oluşturun."
      ],
      "metadata": {
        "id": "NXEoNrzuMuuq"
      }
    },
    {
      "cell_type": "code",
      "source": [
        "movies=pd.Series([9.4,9.3, 8.8, 8.4, 3.8, 2.1], index=[\"Breaking Bad\" , \"Chernobyl\" , \"Leyla ile Mecnun\" , \"X-Men\" , \"Captain America\" , \"Disaster Movie\"])\n",
        "movies"
      ],
      "metadata": {
        "colab": {
          "base_uri": "https://localhost:8080/"
        },
        "id": "wr7sYaxHMmyx",
        "outputId": "d70cb6ee-eaee-40d7-86bc-9c738cd63bd7"
      },
      "execution_count": 4,
      "outputs": [
        {
          "output_type": "execute_result",
          "data": {
            "text/plain": [
              "Breaking Bad        9.4\n",
              "Chernobyl           9.3\n",
              "Leyla ile Mecnun    8.8\n",
              "X-Men               8.4\n",
              "Captain America     3.8\n",
              "Disaster Movie      2.1\n",
              "dtype: float64"
            ]
          },
          "metadata": {},
          "execution_count": 4
        }
      ]
    },
    {
      "cell_type": "markdown",
      "source": [
        "Soru 4 : donem1_mat adında bir seri oluşturun. Bu serinin içinde \"Mert\" ,\"Esila\" ,\"Aslı\" ,\"Burak\" ,\"Kerem\" ,\"Yasemin\" ,\"Hazal\" index değerleri olsun,\n",
        "   Datasında ise 85, 80 , 94 , 74 , 91 , 96 , 70 değerleri olsun.\n",
        "   \n",
        "   Bu şekilde donem1 adında öğrencilerin 1.dönem matematik not ortalamalarının tutulduğu bir seri oluşturun."
      ],
      "metadata": {
        "id": "2q6sei6BNGSJ"
      }
    },
    {
      "cell_type": "code",
      "source": [
        "donem1_mat= pd.Series([85, 80 , 94 , 74 , 91 , 96 , 70],index=[\"Mert\" ,\"Esila\" ,\"Aslı\" ,\"Burak\" ,\"Kerem\" ,\"Yasemin\" ,\"Hazal\"])\n",
        "donem1_mat"
      ],
      "metadata": {
        "colab": {
          "base_uri": "https://localhost:8080/"
        },
        "id": "FNxy4SN6NAaQ",
        "outputId": "1c893675-21bb-4f42-d808-53923ee5a053"
      },
      "execution_count": 5,
      "outputs": [
        {
          "output_type": "execute_result",
          "data": {
            "text/plain": [
              "Mert       85\n",
              "Esila      80\n",
              "Aslı       94\n",
              "Burak      74\n",
              "Kerem      91\n",
              "Yasemin    96\n",
              "Hazal      70\n",
              "dtype: int64"
            ]
          },
          "metadata": {},
          "execution_count": 5
        }
      ]
    },
    {
      "cell_type": "code",
      "source": [
        "donem1=pd.Series(donem1_mat)\n",
        "donem1"
      ],
      "metadata": {
        "colab": {
          "base_uri": "https://localhost:8080/"
        },
        "id": "NIshEx6xNVBg",
        "outputId": "2e98a644-037a-4645-f6e8-4996cb331b12"
      },
      "execution_count": 6,
      "outputs": [
        {
          "output_type": "execute_result",
          "data": {
            "text/plain": [
              "Mert       85\n",
              "Esila      80\n",
              "Aslı       94\n",
              "Burak      74\n",
              "Kerem      91\n",
              "Yasemin    96\n",
              "Hazal      70\n",
              "dtype: int64"
            ]
          },
          "metadata": {},
          "execution_count": 6
        }
      ]
    },
    {
      "cell_type": "markdown",
      "source": [
        "Soru 5: donem1_mat serisini değerlerine göre büyükten küçüğe sıralayın."
      ],
      "metadata": {
        "id": "PK1mtxGwNwA_"
      }
    },
    {
      "cell_type": "code",
      "source": [
        "donem1.sort_values(axis=0)"
      ],
      "metadata": {
        "colab": {
          "base_uri": "https://localhost:8080/"
        },
        "id": "C-yc3aiKNea3",
        "outputId": "10545b53-65fa-41cb-c4c3-c8bf32dde68e"
      },
      "execution_count": 7,
      "outputs": [
        {
          "output_type": "execute_result",
          "data": {
            "text/plain": [
              "Hazal      70\n",
              "Burak      74\n",
              "Esila      80\n",
              "Mert       85\n",
              "Kerem      91\n",
              "Aslı       94\n",
              "Yasemin    96\n",
              "dtype: int64"
            ]
          },
          "metadata": {},
          "execution_count": 7
        }
      ]
    },
    {
      "cell_type": "markdown",
      "source": [
        "Soru 6: donem1_mat serisinin en düşük not almış 2 öğrencisini getirtin"
      ],
      "metadata": {
        "id": "qR7BR25vPHM8"
      }
    },
    {
      "cell_type": "code",
      "source": [
        "low_score=donem1.sort_values(ascending=False)\n",
        "low_score.tail(2)"
      ],
      "metadata": {
        "colab": {
          "base_uri": "https://localhost:8080/"
        },
        "id": "nqCQpm_ZNz_G",
        "outputId": "a6587795-5c52-4cdc-ce97-8f7981f73b95"
      },
      "execution_count": 8,
      "outputs": [
        {
          "output_type": "execute_result",
          "data": {
            "text/plain": [
              "Burak    74\n",
              "Hazal    70\n",
              "dtype: int64"
            ]
          },
          "metadata": {},
          "execution_count": 8
        }
      ]
    },
    {
      "cell_type": "markdown",
      "source": [
        "Soru 7: donem1_mat serisinin istatistiksel özelliklerine bakın"
      ],
      "metadata": {
        "id": "XcHOmv4iQFcq"
      }
    },
    {
      "cell_type": "code",
      "source": [
        "donem1.describe()"
      ],
      "metadata": {
        "colab": {
          "base_uri": "https://localhost:8080/"
        },
        "id": "_tj9LNTqPZ1b",
        "outputId": "a10d3ec7-98f4-46ee-c147-75f651df0616"
      },
      "execution_count": 9,
      "outputs": [
        {
          "output_type": "execute_result",
          "data": {
            "text/plain": [
              "count     7.000000\n",
              "mean     84.285714\n",
              "std      10.045136\n",
              "min      70.000000\n",
              "25%      77.000000\n",
              "50%      85.000000\n",
              "75%      92.500000\n",
              "max      96.000000\n",
              "dtype: float64"
            ]
          },
          "metadata": {},
          "execution_count": 9
        }
      ]
    },
    {
      "cell_type": "markdown",
      "source": [
        "Soru 8: donem1_mat serisinin eşsiz değerlerine bakın."
      ],
      "metadata": {
        "id": "QRTwO4-CRXpY"
      }
    },
    {
      "cell_type": "code",
      "source": [
        "donem1.unique"
      ],
      "metadata": {
        "colab": {
          "base_uri": "https://localhost:8080/"
        },
        "id": "lqr46BY-QJz5",
        "outputId": "df8e537f-404f-4330-ea69-63e88e072f50"
      },
      "execution_count": 10,
      "outputs": [
        {
          "output_type": "execute_result",
          "data": {
            "text/plain": [
              "<bound method Series.unique of Mert       85\n",
              "Esila      80\n",
              "Aslı       94\n",
              "Burak      74\n",
              "Kerem      91\n",
              "Yasemin    96\n",
              "Hazal      70\n",
              "dtype: int64>"
            ]
          },
          "metadata": {},
          "execution_count": 10
        }
      ]
    },
    {
      "cell_type": "markdown",
      "source": [
        "Soru 9: donem1_mat serisinde\n",
        "\n",
        "Notu 90 ve üstü olanlara 3 puan,\n",
        "\n",
        "notu 80 ve üstü olanlara 5 puan,\n",
        "\n",
        "notu 70 ve üstü olanlara 8 puan ekleyin"
      ],
      "metadata": {
        "id": "NVhqF8OsRlLo"
      }
    },
    {
      "cell_type": "code",
      "source": [
        "def ekpuan(x):\n",
        "  if x>=90:\n",
        "    return x+3\n",
        "  elif x >=80:\n",
        "    return x+5\n",
        "  else:\n",
        "    return x+8"
      ],
      "metadata": {
        "id": "i8VGvIlsRdbO"
      },
      "execution_count": 11,
      "outputs": []
    },
    {
      "cell_type": "code",
      "source": [
        "donem1.apply(ekpuan)"
      ],
      "metadata": {
        "colab": {
          "base_uri": "https://localhost:8080/"
        },
        "id": "RnImaXclSHLl",
        "outputId": "31595396-48a1-4018-9b23-25d767981cb6"
      },
      "execution_count": 12,
      "outputs": [
        {
          "output_type": "execute_result",
          "data": {
            "text/plain": [
              "Mert       90\n",
              "Esila      85\n",
              "Aslı       97\n",
              "Burak      82\n",
              "Kerem      94\n",
              "Yasemin    99\n",
              "Hazal      78\n",
              "dtype: int64"
            ]
          },
          "metadata": {},
          "execution_count": 12
        }
      ]
    },
    {
      "cell_type": "code",
      "source": [],
      "metadata": {
        "id": "Z7OrkX-_TlDa"
      },
      "execution_count": 12,
      "outputs": []
    }
  ]
}