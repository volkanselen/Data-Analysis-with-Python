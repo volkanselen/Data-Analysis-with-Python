{
 "cells": [
  {
   "cell_type": "code",
   "execution_count": 1,
   "metadata": {},
   "outputs": [],
   "source": [
    "import numpy as np \n",
    "import pandas as pd \n",
    "import seaborn as sns\n",
    "import matplotlib.pyplot as plt\n",
    "from collections import Counter\n",
    "%matplotlib inline"
   ]
  },
  {
   "cell_type": "markdown",
   "metadata": {},
   "source": [
    "Data_Set_Source: https://www.kaggle.com/datasets/joebeachcapital/airbnb"
   ]
  },
  {
   "cell_type": "code",
   "execution_count": 2,
   "metadata": {},
   "outputs": [
    {
     "name": "stderr",
     "output_type": "stream",
     "text": [
      "C:\\Users\\selen\\AppData\\Local\\Temp\\ipykernel_138980\\3470018433.py:1: DtypeWarning: Columns (0,2,66) have mixed types. Specify dtype option on import or set low_memory=False.\n",
      "  air=pd.read_csv(r\"C:\\Users\\selen\\OneDrive\\Masaüstü\\Dataset\\airbnb-listings.csv\",sep=\";\")\n"
     ]
    }
   ],
   "source": [
    "air=pd.read_csv(r\"C:\\Users\\selen\\OneDrive\\Masaüstü\\Dataset\\airbnb-listings.csv\",sep=\";\")"
   ]
  },
  {
   "cell_type": "code",
   "execution_count": 3,
   "metadata": {},
   "outputs": [
    {
     "data": {
      "text/html": [
       "<div>\n",
       "<style scoped>\n",
       "    .dataframe tbody tr th:only-of-type {\n",
       "        vertical-align: middle;\n",
       "    }\n",
       "\n",
       "    .dataframe tbody tr th {\n",
       "        vertical-align: top;\n",
       "    }\n",
       "\n",
       "    .dataframe thead th {\n",
       "        text-align: right;\n",
       "    }\n",
       "</style>\n",
       "<table border=\"1\" class=\"dataframe\">\n",
       "  <thead>\n",
       "    <tr style=\"text-align: right;\">\n",
       "      <th></th>\n",
       "      <th>ID</th>\n",
       "      <th>Listing Url</th>\n",
       "      <th>Scrape ID</th>\n",
       "      <th>Last Scraped</th>\n",
       "      <th>Name</th>\n",
       "      <th>Summary</th>\n",
       "      <th>Space</th>\n",
       "      <th>Description</th>\n",
       "      <th>Experiences Offered</th>\n",
       "      <th>Neighborhood Overview</th>\n",
       "      <th>...</th>\n",
       "      <th>Review Scores Communication</th>\n",
       "      <th>Review Scores Location</th>\n",
       "      <th>Review Scores Value</th>\n",
       "      <th>License</th>\n",
       "      <th>Jurisdiction Names</th>\n",
       "      <th>Cancellation Policy</th>\n",
       "      <th>Calculated host listings count</th>\n",
       "      <th>Reviews per Month</th>\n",
       "      <th>Geolocation</th>\n",
       "      <th>Features</th>\n",
       "    </tr>\n",
       "  </thead>\n",
       "  <tbody>\n",
       "    <tr>\n",
       "      <th>0</th>\n",
       "      <td>4008728</td>\n",
       "      <td>https://www.airbnb.com/rooms/4008728</td>\n",
       "      <td>20170402075052</td>\n",
       "      <td>2017-04-02</td>\n",
       "      <td>Luxurious 3 bedroom, centrum, 180m2</td>\n",
       "      <td>‪This luxurious apartment is situated in the c...</td>\n",
       "      <td>In the heart of hip &amp; lively Amsterdam Centrum...</td>\n",
       "      <td>‪This luxurious apartment is situated in the c...</td>\n",
       "      <td>none</td>\n",
       "      <td>There is a wide variety of cafes and restauran...</td>\n",
       "      <td>...</td>\n",
       "      <td>10.0</td>\n",
       "      <td>10.0</td>\n",
       "      <td>9.0</td>\n",
       "      <td>NaN</td>\n",
       "      <td>Amsterdam</td>\n",
       "      <td>strict</td>\n",
       "      <td>1.0</td>\n",
       "      <td>1.52</td>\n",
       "      <td>52.36523660409065, 4.878249575101092</td>\n",
       "      <td>Host Has Profile Pic,Host Identity Verified,Is...</td>\n",
       "    </tr>\n",
       "    <tr>\n",
       "      <th>1</th>\n",
       "      <td>7778612</td>\n",
       "      <td>https://www.airbnb.com/rooms/7778612</td>\n",
       "      <td>20170402075052</td>\n",
       "      <td>2017-04-02</td>\n",
       "      <td>Luxury apartment in city centre</td>\n",
       "      <td>Beautiful, large (105m2, 2 floors) and quiet a...</td>\n",
       "      <td>1 living room 1 dining room 2 bedrooms 1 bathr...</td>\n",
       "      <td>Beautiful, large (105m2, 2 floors) and quiet a...</td>\n",
       "      <td>none</td>\n",
       "      <td>Within a few minutes walking you'll be in the ...</td>\n",
       "      <td>...</td>\n",
       "      <td>10.0</td>\n",
       "      <td>10.0</td>\n",
       "      <td>9.0</td>\n",
       "      <td>NaN</td>\n",
       "      <td>Amsterdam</td>\n",
       "      <td>strict</td>\n",
       "      <td>1.0</td>\n",
       "      <td>0.81</td>\n",
       "      <td>52.367309030897516, 4.8738407410699915</td>\n",
       "      <td>Host Is Superhost,Host Has Profile Pic,Host Id...</td>\n",
       "    </tr>\n",
       "    <tr>\n",
       "      <th>2</th>\n",
       "      <td>8264596</td>\n",
       "      <td>https://www.airbnb.com/rooms/8264596</td>\n",
       "      <td>20170402075052</td>\n",
       "      <td>2017-04-02</td>\n",
       "      <td>Cosy apartment across Vondelpark</td>\n",
       "      <td>This central located apartment will make you f...</td>\n",
       "      <td>NaN</td>\n",
       "      <td>This central located apartment will make you f...</td>\n",
       "      <td>none</td>\n",
       "      <td>NaN</td>\n",
       "      <td>...</td>\n",
       "      <td>10.0</td>\n",
       "      <td>10.0</td>\n",
       "      <td>10.0</td>\n",
       "      <td>NaN</td>\n",
       "      <td>Amsterdam</td>\n",
       "      <td>flexible</td>\n",
       "      <td>1.0</td>\n",
       "      <td>0.05</td>\n",
       "      <td>52.361943953804776, 4.866686522141489</td>\n",
       "      <td>Host Has Profile Pic,Host Identity Verified,Is...</td>\n",
       "    </tr>\n",
       "    <tr>\n",
       "      <th>3</th>\n",
       "      <td>2180729</td>\n",
       "      <td>https://www.airbnb.com/rooms/2180729</td>\n",
       "      <td>20170402075052</td>\n",
       "      <td>2017-04-02</td>\n",
       "      <td>Spacious City Apartment Oud-West</td>\n",
       "      <td>Living like an Amsterdam resident in this ligh...</td>\n",
       "      <td>There are 2 bedrooms each with a double bed. I...</td>\n",
       "      <td>Living like an Amsterdam resident in this ligh...</td>\n",
       "      <td>none</td>\n",
       "      <td>The 85 m2 apartment is located on a quiet stre...</td>\n",
       "      <td>...</td>\n",
       "      <td>9.0</td>\n",
       "      <td>9.0</td>\n",
       "      <td>9.0</td>\n",
       "      <td>NaN</td>\n",
       "      <td>Amsterdam</td>\n",
       "      <td>flexible</td>\n",
       "      <td>1.0</td>\n",
       "      <td>0.62</td>\n",
       "      <td>52.37014616115532, 4.866281767968382</td>\n",
       "      <td>Host Has Profile Pic,Host Identity Verified,Is...</td>\n",
       "    </tr>\n",
       "    <tr>\n",
       "      <th>4</th>\n",
       "      <td>14463171</td>\n",
       "      <td>https://www.airbnb.com/rooms/14463171</td>\n",
       "      <td>20170402075052</td>\n",
       "      <td>2017-04-02</td>\n",
       "      <td>Cosy Studio Apartment Center Amsterdam</td>\n",
       "      <td>Studio Apartment Centre Amsterdam Perfect stud...</td>\n",
       "      <td>NaN</td>\n",
       "      <td>Studio Apartment Centre Amsterdam Perfect stud...</td>\n",
       "      <td>none</td>\n",
       "      <td>NaN</td>\n",
       "      <td>...</td>\n",
       "      <td>8.0</td>\n",
       "      <td>9.0</td>\n",
       "      <td>9.0</td>\n",
       "      <td>NaN</td>\n",
       "      <td>Amsterdam</td>\n",
       "      <td>moderate</td>\n",
       "      <td>1.0</td>\n",
       "      <td>2.04</td>\n",
       "      <td>52.368817829014425, 4.871249476925455</td>\n",
       "      <td>Host Has Profile Pic</td>\n",
       "    </tr>\n",
       "  </tbody>\n",
       "</table>\n",
       "<p>5 rows × 89 columns</p>\n",
       "</div>"
      ],
      "text/plain": [
       "         ID                            Listing Url       Scrape ID  \\\n",
       "0   4008728   https://www.airbnb.com/rooms/4008728  20170402075052   \n",
       "1   7778612   https://www.airbnb.com/rooms/7778612  20170402075052   \n",
       "2   8264596   https://www.airbnb.com/rooms/8264596  20170402075052   \n",
       "3   2180729   https://www.airbnb.com/rooms/2180729  20170402075052   \n",
       "4  14463171  https://www.airbnb.com/rooms/14463171  20170402075052   \n",
       "\n",
       "  Last Scraped                                    Name  \\\n",
       "0   2017-04-02     Luxurious 3 bedroom, centrum, 180m2   \n",
       "1   2017-04-02         Luxury apartment in city centre   \n",
       "2   2017-04-02        Cosy apartment across Vondelpark   \n",
       "3   2017-04-02        Spacious City Apartment Oud-West   \n",
       "4   2017-04-02  Cosy Studio Apartment Center Amsterdam   \n",
       "\n",
       "                                             Summary  \\\n",
       "0  ‪This luxurious apartment is situated in the c...   \n",
       "1  Beautiful, large (105m2, 2 floors) and quiet a...   \n",
       "2  This central located apartment will make you f...   \n",
       "3  Living like an Amsterdam resident in this ligh...   \n",
       "4  Studio Apartment Centre Amsterdam Perfect stud...   \n",
       "\n",
       "                                               Space  \\\n",
       "0  In the heart of hip & lively Amsterdam Centrum...   \n",
       "1  1 living room 1 dining room 2 bedrooms 1 bathr...   \n",
       "2                                                NaN   \n",
       "3  There are 2 bedrooms each with a double bed. I...   \n",
       "4                                                NaN   \n",
       "\n",
       "                                         Description Experiences Offered  \\\n",
       "0  ‪This luxurious apartment is situated in the c...                none   \n",
       "1  Beautiful, large (105m2, 2 floors) and quiet a...                none   \n",
       "2  This central located apartment will make you f...                none   \n",
       "3  Living like an Amsterdam resident in this ligh...                none   \n",
       "4  Studio Apartment Centre Amsterdam Perfect stud...                none   \n",
       "\n",
       "                               Neighborhood Overview  ...  \\\n",
       "0  There is a wide variety of cafes and restauran...  ...   \n",
       "1  Within a few minutes walking you'll be in the ...  ...   \n",
       "2                                                NaN  ...   \n",
       "3  The 85 m2 apartment is located on a quiet stre...  ...   \n",
       "4                                                NaN  ...   \n",
       "\n",
       "  Review Scores Communication Review Scores Location Review Scores Value  \\\n",
       "0                        10.0                   10.0                 9.0   \n",
       "1                        10.0                   10.0                 9.0   \n",
       "2                        10.0                   10.0                10.0   \n",
       "3                         9.0                    9.0                 9.0   \n",
       "4                         8.0                    9.0                 9.0   \n",
       "\n",
       "  License Jurisdiction Names Cancellation Policy  \\\n",
       "0     NaN          Amsterdam              strict   \n",
       "1     NaN          Amsterdam              strict   \n",
       "2     NaN          Amsterdam            flexible   \n",
       "3     NaN          Amsterdam            flexible   \n",
       "4     NaN          Amsterdam            moderate   \n",
       "\n",
       "  Calculated host listings count Reviews per Month  \\\n",
       "0                            1.0              1.52   \n",
       "1                            1.0              0.81   \n",
       "2                            1.0              0.05   \n",
       "3                            1.0              0.62   \n",
       "4                            1.0              2.04   \n",
       "\n",
       "                              Geolocation  \\\n",
       "0    52.36523660409065, 4.878249575101092   \n",
       "1  52.367309030897516, 4.8738407410699915   \n",
       "2   52.361943953804776, 4.866686522141489   \n",
       "3    52.37014616115532, 4.866281767968382   \n",
       "4   52.368817829014425, 4.871249476925455   \n",
       "\n",
       "                                            Features  \n",
       "0  Host Has Profile Pic,Host Identity Verified,Is...  \n",
       "1  Host Is Superhost,Host Has Profile Pic,Host Id...  \n",
       "2  Host Has Profile Pic,Host Identity Verified,Is...  \n",
       "3  Host Has Profile Pic,Host Identity Verified,Is...  \n",
       "4                               Host Has Profile Pic  \n",
       "\n",
       "[5 rows x 89 columns]"
      ]
     },
     "execution_count": 3,
     "metadata": {},
     "output_type": "execute_result"
    }
   ],
   "source": [
    "air.head()"
   ]
  },
  {
   "cell_type": "code",
   "execution_count": null,
   "metadata": {},
   "outputs": [],
   "source": [
    "air.drop([\"Listing Url\"],axis=1,inplace=True)"
   ]
  },
  {
   "cell_type": "code",
   "execution_count": 6,
   "metadata": {},
   "outputs": [
    {
     "data": {
      "text/plain": [
       "Index(['ID', 'Scrape ID', 'Last Scraped', 'Name', 'Summary', 'Space',\n",
       "       'Description', 'Experiences Offered', 'Neighborhood Overview', 'Notes',\n",
       "       'Transit', 'Access', 'Interaction', 'House Rules', 'Thumbnail Url',\n",
       "       'Medium Url', 'Picture Url', 'XL Picture Url', 'Host ID', 'Host URL',\n",
       "       'Host Name', 'Host Since', 'Host Location', 'Host About',\n",
       "       'Host Response Time', 'Host Response Rate', 'Host Acceptance Rate',\n",
       "       'Host Thumbnail Url', 'Host Picture Url', 'Host Neighbourhood',\n",
       "       'Host Listings Count', 'Host Total Listings Count',\n",
       "       'Host Verifications', 'Street', 'Neighbourhood',\n",
       "       'Neighbourhood Cleansed', 'Neighbourhood Group Cleansed', 'City',\n",
       "       'State', 'Zipcode', 'Market', 'Smart Location', 'Country Code',\n",
       "       'Country', 'Latitude', 'Longitude', 'Property Type', 'Room Type',\n",
       "       'Accommodates', 'Bathrooms', 'Bedrooms', 'Beds', 'Bed Type',\n",
       "       'Amenities', 'Square Feet', 'Price', 'Weekly Price', 'Monthly Price',\n",
       "       'Security Deposit', 'Cleaning Fee', 'Guests Included', 'Extra People',\n",
       "       'Minimum Nights', 'Maximum Nights', 'Calendar Updated',\n",
       "       'Has Availability', 'Availability 30', 'Availability 60',\n",
       "       'Availability 90', 'Availability 365', 'Calendar last Scraped',\n",
       "       'Number of Reviews', 'First Review', 'Last Review',\n",
       "       'Review Scores Rating', 'Review Scores Accuracy',\n",
       "       'Review Scores Cleanliness', 'Review Scores Checkin',\n",
       "       'Review Scores Communication', 'Review Scores Location',\n",
       "       'Review Scores Value', 'License', 'Jurisdiction Names',\n",
       "       'Cancellation Policy', 'Calculated host listings count',\n",
       "       'Reviews per Month', 'Geolocation', 'Features'],\n",
       "      dtype='object')"
      ]
     },
     "execution_count": 6,
     "metadata": {},
     "output_type": "execute_result"
    }
   ],
   "source": [
    "air.columns"
   ]
  },
  {
   "cell_type": "markdown",
   "metadata": {},
   "source": [
    "### The 50 cities with the most flights."
   ]
  },
  {
   "cell_type": "code",
   "execution_count": 7,
   "metadata": {},
   "outputs": [
    {
     "data": {
      "text/plain": [
       "454"
      ]
     },
     "execution_count": 7,
     "metadata": {},
     "output_type": "execute_result"
    }
   ],
   "source": [
    "air.City.isna().sum() #boş değerlere bakıyoruz"
   ]
  },
  {
   "cell_type": "code",
   "execution_count": 18,
   "metadata": {},
   "outputs": [
    {
     "data": {
      "text/plain": [
       "0"
      ]
     },
     "execution_count": 18,
     "metadata": {},
     "output_type": "execute_result"
    }
   ],
   "source": [
    "air.dropna(subset=[\"City\"],inplace=True) #454 tane boş değeri siliyoruz"
   ]
  },
  {
   "cell_type": "code",
   "execution_count": 23,
   "metadata": {},
   "outputs": [
    {
     "data": {
      "text/plain": [
       "<bound method Series.reset_index of City\n",
       "Paris                                    54513\n",
       "London                                   47423\n",
       "Berlin                                   20454\n",
       "New York                                 19528\n",
       "Los Angeles                              19426\n",
       "                                         ...  \n",
       "Yarra Valley, Yarra Glen, Healesville        1\n",
       "Jordan,Yua Ma Tei,Tsim Sha Tsui              1\n",
       "Athen                                        1\n",
       "valley village                               1\n",
       "villa verde bajo                             1\n",
       "Name: count, Length: 5532, dtype: int64>"
      ]
     },
     "execution_count": 23,
     "metadata": {},
     "output_type": "execute_result"
    }
   ],
   "source": [
    "air_most_city=air[\"City\"].value_counts()\n",
    "air_most_city.reset_index"
   ]
  },
  {
   "cell_type": "code",
   "execution_count": 33,
   "metadata": {},
   "outputs": [],
   "source": [
    "air_most_city=air_most_city.head(50).sort_values(ascending=False)"
   ]
  },
  {
   "cell_type": "code",
   "execution_count": 43,
   "metadata": {},
   "outputs": [
    {
     "data": {
      "image/png": "[encoded data removed]",
      "text/plain": [
       "<Figure size 1500x1000 with 1 Axes>"
      ]
     },
     "metadata": {},
     "output_type": "display_data"
    }
   ],
   "source": [
    "plt.figure(figsize=(15,10))\n",
    "sns.barplot(x=air_most_city.values,y=air_most_city.index)\n",
    "plt.title(\"The 50 cities with the most flights.\")\n",
    "plt.show()"
   ]
  },
  {
   "cell_type": "markdown",
   "metadata": {},
   "source": [
    "### Countries with the highest ratings"
   ]
  },
  {
   "cell_type": "code",
   "execution_count": 75,
   "metadata": {},
   "outputs": [],
   "source": [
    "air.dropna(subset=[\"Country\",\"Review Scores Accuracy\"],inplace=True)"
   ]
  },
  {
   "cell_type": "code",
   "execution_count": 91,
   "metadata": {},
   "outputs": [
    {
     "data": {
      "text/plain": [
       "array(['Netherlands', 'Belgium', 'Greece', 'United Kingdom',\n",
       "       'United States', 'Spain', 'Australia', 'Canada', 'Germany',\n",
       "       'Denmark', 'Ireland', 'Hong Kong', 'Switzerland', 'China',\n",
       "       'France', 'Italy', 'Austria', 'Mexico', 'Vanuatu', 'Uruguay',\n",
       "       'Vatican City'], dtype=object)"
      ]
     },
     "execution_count": 91,
     "metadata": {},
     "output_type": "execute_result"
    }
   ],
   "source": [
    "air.Country.unique()"
   ]
  },
  {
   "cell_type": "code",
   "execution_count": 84,
   "metadata": {},
   "outputs": [],
   "source": [
    "air_scor=air.groupby(\"Country\")[\"Review Scores Accuracy\"].mean()"
   ]
  },
  {
   "cell_type": "code",
   "execution_count": 93,
   "metadata": {},
   "outputs": [],
   "source": [
    "air_scorr_sorted=air_scor.sort_values(ascending=False)"
   ]
  },
  {
   "cell_type": "code",
   "execution_count": 94,
   "metadata": {},
   "outputs": [
    {
     "data": {
      "text/html": [
       "<div>\n",
       "<style scoped>\n",
       "    .dataframe tbody tr th:only-of-type {\n",
       "        vertical-align: middle;\n",
       "    }\n",
       "\n",
       "    .dataframe tbody tr th {\n",
       "        vertical-align: top;\n",
       "    }\n",
       "\n",
       "    .dataframe thead th {\n",
       "        text-align: right;\n",
       "    }\n",
       "</style>\n",
       "<table border=\"1\" class=\"dataframe\">\n",
       "  <thead>\n",
       "    <tr style=\"text-align: right;\">\n",
       "      <th></th>\n",
       "      <th>Country</th>\n",
       "      <th>Review Scores Accuracy</th>\n",
       "    </tr>\n",
       "  </thead>\n",
       "  <tbody>\n",
       "    <tr>\n",
       "      <th>0</th>\n",
       "      <td>Vanuatu</td>\n",
       "      <td>10.000000</td>\n",
       "    </tr>\n",
       "    <tr>\n",
       "      <th>1</th>\n",
       "      <td>Greece</td>\n",
       "      <td>9.654311</td>\n",
       "    </tr>\n",
       "    <tr>\n",
       "      <th>2</th>\n",
       "      <td>Denmark</td>\n",
       "      <td>9.651701</td>\n",
       "    </tr>\n",
       "    <tr>\n",
       "      <th>3</th>\n",
       "      <td>Austria</td>\n",
       "      <td>9.625930</td>\n",
       "    </tr>\n",
       "    <tr>\n",
       "      <th>4</th>\n",
       "      <td>United States</td>\n",
       "      <td>9.618857</td>\n",
       "    </tr>\n",
       "    <tr>\n",
       "      <th>5</th>\n",
       "      <td>Netherlands</td>\n",
       "      <td>9.599346</td>\n",
       "    </tr>\n",
       "    <tr>\n",
       "      <th>6</th>\n",
       "      <td>Germany</td>\n",
       "      <td>9.588651</td>\n",
       "    </tr>\n",
       "    <tr>\n",
       "      <th>7</th>\n",
       "      <td>Canada</td>\n",
       "      <td>9.581285</td>\n",
       "    </tr>\n",
       "    <tr>\n",
       "      <th>8</th>\n",
       "      <td>Australia</td>\n",
       "      <td>9.548030</td>\n",
       "    </tr>\n",
       "    <tr>\n",
       "      <th>9</th>\n",
       "      <td>Mexico</td>\n",
       "      <td>9.500000</td>\n",
       "    </tr>\n",
       "    <tr>\n",
       "      <th>10</th>\n",
       "      <td>Ireland</td>\n",
       "      <td>9.494489</td>\n",
       "    </tr>\n",
       "    <tr>\n",
       "      <th>11</th>\n",
       "      <td>France</td>\n",
       "      <td>9.488574</td>\n",
       "    </tr>\n",
       "    <tr>\n",
       "      <th>12</th>\n",
       "      <td>Belgium</td>\n",
       "      <td>9.470842</td>\n",
       "    </tr>\n",
       "    <tr>\n",
       "      <th>13</th>\n",
       "      <td>Switzerland</td>\n",
       "      <td>9.470106</td>\n",
       "    </tr>\n",
       "    <tr>\n",
       "      <th>14</th>\n",
       "      <td>Italy</td>\n",
       "      <td>9.445813</td>\n",
       "    </tr>\n",
       "    <tr>\n",
       "      <th>15</th>\n",
       "      <td>United Kingdom</td>\n",
       "      <td>9.427087</td>\n",
       "    </tr>\n",
       "    <tr>\n",
       "      <th>16</th>\n",
       "      <td>Spain</td>\n",
       "      <td>9.361513</td>\n",
       "    </tr>\n",
       "    <tr>\n",
       "      <th>17</th>\n",
       "      <td>China</td>\n",
       "      <td>9.294118</td>\n",
       "    </tr>\n",
       "    <tr>\n",
       "      <th>18</th>\n",
       "      <td>Hong Kong</td>\n",
       "      <td>9.041345</td>\n",
       "    </tr>\n",
       "    <tr>\n",
       "      <th>19</th>\n",
       "      <td>Uruguay</td>\n",
       "      <td>9.000000</td>\n",
       "    </tr>\n",
       "    <tr>\n",
       "      <th>20</th>\n",
       "      <td>Vatican City</td>\n",
       "      <td>9.000000</td>\n",
       "    </tr>\n",
       "  </tbody>\n",
       "</table>\n",
       "</div>"
      ],
      "text/plain": [
       "           Country  Review Scores Accuracy\n",
       "0          Vanuatu               10.000000\n",
       "1           Greece                9.654311\n",
       "2          Denmark                9.651701\n",
       "3          Austria                9.625930\n",
       "4    United States                9.618857\n",
       "5      Netherlands                9.599346\n",
       "6          Germany                9.588651\n",
       "7           Canada                9.581285\n",
       "8        Australia                9.548030\n",
       "9           Mexico                9.500000\n",
       "10         Ireland                9.494489\n",
       "11          France                9.488574\n",
       "12         Belgium                9.470842\n",
       "13     Switzerland                9.470106\n",
       "14           Italy                9.445813\n",
       "15  United Kingdom                9.427087\n",
       "16           Spain                9.361513\n",
       "17           China                9.294118\n",
       "18       Hong Kong                9.041345\n",
       "19         Uruguay                9.000000\n",
       "20    Vatican City                9.000000"
      ]
     },
     "execution_count": 94,
     "metadata": {},
     "output_type": "execute_result"
    }
   ],
   "source": [
    "air_scorr_sorted.reset_index()"
   ]
  },
  {
   "cell_type": "code",
   "execution_count": null,
   "metadata": {},
   "outputs": [],
   "source": []
  },
  {
   "cell_type": "code",
   "execution_count": 105,
   "metadata": {},
   "outputs": [
    {
     "data": {
      "image/png": "[encoded data removed]",
      "text/plain": [
       "<Figure size 1500x800 with 1 Axes>"
      ]
     },
     "metadata": {},
     "output_type": "display_data"
    }
   ],
   "source": [
    "plt.figure(figsize=(15,8))\n",
    "plt.xticks(rotation=90)\n",
    "sns.barplot(x=air_scorr_sorted.index,y=air_scorr_sorted.values)\n",
    "plt.title(\"Countries with the highest ratings\")\n",
    "plt.show()"
   ]
  },
  {
   "cell_type": "code",
   "execution_count": 109,
   "metadata": {},
   "outputs": [
    {
     "data": {
      "text/plain": [
       "Index(['ID', 'Scrape ID', 'Last Scraped', 'Name', 'Summary', 'Space',\n",
       "       'Description', 'Experiences Offered', 'Neighborhood Overview', 'Notes',\n",
       "       'Transit', 'Access', 'Interaction', 'House Rules', 'Thumbnail Url',\n",
       "       'Medium Url', 'Picture Url', 'XL Picture Url', 'Host ID', 'Host URL',\n",
       "       'Host Name', 'Host Since', 'Host Location', 'Host About',\n",
       "       'Host Response Time', 'Host Response Rate', 'Host Acceptance Rate',\n",
       "       'Host Thumbnail Url', 'Host Picture Url', 'Host Neighbourhood',\n",
       "       'Host Listings Count', 'Host Total Listings Count',\n",
       "       'Host Verifications', 'Street', 'Neighbourhood',\n",
       "       'Neighbourhood Cleansed', 'Neighbourhood Group Cleansed', 'City',\n",
       "       'State', 'Zipcode', 'Market', 'Smart Location', 'Country Code',\n",
       "       'Country', 'Latitude', 'Longitude', 'Property Type', 'Room Type',\n",
       "       'Accommodates', 'Bathrooms', 'Bedrooms', 'Beds', 'Bed Type',\n",
       "       'Amenities', 'Square Feet', 'Price', 'Weekly Price', 'Monthly Price',\n",
       "       'Security Deposit', 'Cleaning Fee', 'Guests Included', 'Extra People',\n",
       "       'Minimum Nights', 'Maximum Nights', 'Calendar Updated',\n",
       "       'Has Availability', 'Availability 30', 'Availability 60',\n",
       "       'Availability 90', 'Availability 365', 'Calendar last Scraped',\n",
       "       'Number of Reviews', 'First Review', 'Last Review',\n",
       "       'Review Scores Rating', 'Review Scores Accuracy',\n",
       "       'Review Scores Cleanliness', 'Review Scores Checkin',\n",
       "       'Review Scores Communication', 'Review Scores Location',\n",
       "       'Review Scores Value', 'License', 'Jurisdiction Names',\n",
       "       'Cancellation Policy', 'Calculated host listings count',\n",
       "       'Reviews per Month', 'Geolocation', 'Features'],\n",
       "      dtype='object')"
      ]
     },
     "execution_count": 109,
     "metadata": {},
     "output_type": "execute_result"
    }
   ],
   "source": [
    "air.columns"
   ]
  },
  {
   "cell_type": "markdown",
   "metadata": {},
   "source": [
    "### Analysis of the Weekly Price Average by country"
   ]
  },
  {
   "cell_type": "markdown",
   "metadata": {},
   "source": [
    "Weekly Price Mean"
   ]
  },
  {
   "cell_type": "code",
   "execution_count": 148,
   "metadata": {},
   "outputs": [],
   "source": [
    "air_w_price=air.groupby(\"Country\")[\"Weekly Price\"].mean().sort_values(ascending=False)"
   ]
  },
  {
   "cell_type": "code",
   "execution_count": 143,
   "metadata": {},
   "outputs": [],
   "source": [
    "air.dropna(subset=\"Weekly Price\",inplace=True)"
   ]
  },
  {
   "cell_type": "code",
   "execution_count": 149,
   "metadata": {},
   "outputs": [
    {
     "data": {
      "text/html": [
       "<div>\n",
       "<style scoped>\n",
       "    .dataframe tbody tr th:only-of-type {\n",
       "        vertical-align: middle;\n",
       "    }\n",
       "\n",
       "    .dataframe tbody tr th {\n",
       "        vertical-align: top;\n",
       "    }\n",
       "\n",
       "    .dataframe thead th {\n",
       "        text-align: right;\n",
       "    }\n",
       "</style>\n",
       "<table border=\"1\" class=\"dataframe\">\n",
       "  <thead>\n",
       "    <tr style=\"text-align: right;\">\n",
       "      <th></th>\n",
       "      <th>Country</th>\n",
       "      <th>Weekly Price</th>\n",
       "    </tr>\n",
       "  </thead>\n",
       "  <tbody>\n",
       "    <tr>\n",
       "      <th>0</th>\n",
       "      <td>Hong Kong</td>\n",
       "      <td>720.277778</td>\n",
       "    </tr>\n",
       "    <tr>\n",
       "      <th>1</th>\n",
       "      <td>China</td>\n",
       "      <td>710.333333</td>\n",
       "    </tr>\n",
       "    <tr>\n",
       "      <th>2</th>\n",
       "      <td>Netherlands</td>\n",
       "      <td>635.730233</td>\n",
       "    </tr>\n",
       "    <tr>\n",
       "      <th>3</th>\n",
       "      <td>Australia</td>\n",
       "      <td>587.269261</td>\n",
       "    </tr>\n",
       "    <tr>\n",
       "      <th>4</th>\n",
       "      <td>Switzerland</td>\n",
       "      <td>575.987273</td>\n",
       "    </tr>\n",
       "    <tr>\n",
       "      <th>5</th>\n",
       "      <td>United States</td>\n",
       "      <td>573.981669</td>\n",
       "    </tr>\n",
       "    <tr>\n",
       "      <th>6</th>\n",
       "      <td>Denmark</td>\n",
       "      <td>532.596154</td>\n",
       "    </tr>\n",
       "    <tr>\n",
       "      <th>7</th>\n",
       "      <td>France</td>\n",
       "      <td>502.825823</td>\n",
       "    </tr>\n",
       "    <tr>\n",
       "      <th>8</th>\n",
       "      <td>Italy</td>\n",
       "      <td>501.919630</td>\n",
       "    </tr>\n",
       "    <tr>\n",
       "      <th>9</th>\n",
       "      <td>Canada</td>\n",
       "      <td>491.976057</td>\n",
       "    </tr>\n",
       "    <tr>\n",
       "      <th>10</th>\n",
       "      <td>Ireland</td>\n",
       "      <td>479.043436</td>\n",
       "    </tr>\n",
       "    <tr>\n",
       "      <th>11</th>\n",
       "      <td>United Kingdom</td>\n",
       "      <td>451.799980</td>\n",
       "    </tr>\n",
       "    <tr>\n",
       "      <th>12</th>\n",
       "      <td>Spain</td>\n",
       "      <td>406.199466</td>\n",
       "    </tr>\n",
       "    <tr>\n",
       "      <th>13</th>\n",
       "      <td>Austria</td>\n",
       "      <td>400.868324</td>\n",
       "    </tr>\n",
       "    <tr>\n",
       "      <th>14</th>\n",
       "      <td>Belgium</td>\n",
       "      <td>390.037532</td>\n",
       "    </tr>\n",
       "    <tr>\n",
       "      <th>15</th>\n",
       "      <td>Germany</td>\n",
       "      <td>335.557152</td>\n",
       "    </tr>\n",
       "    <tr>\n",
       "      <th>16</th>\n",
       "      <td>Greece</td>\n",
       "      <td>305.107073</td>\n",
       "    </tr>\n",
       "  </tbody>\n",
       "</table>\n",
       "</div>"
      ],
      "text/plain": [
       "           Country  Weekly Price\n",
       "0        Hong Kong    720.277778\n",
       "1            China    710.333333\n",
       "2      Netherlands    635.730233\n",
       "3        Australia    587.269261\n",
       "4      Switzerland    575.987273\n",
       "5    United States    573.981669\n",
       "6          Denmark    532.596154\n",
       "7           France    502.825823\n",
       "8            Italy    501.919630\n",
       "9           Canada    491.976057\n",
       "10         Ireland    479.043436\n",
       "11  United Kingdom    451.799980\n",
       "12           Spain    406.199466\n",
       "13         Austria    400.868324\n",
       "14         Belgium    390.037532\n",
       "15         Germany    335.557152\n",
       "16          Greece    305.107073"
      ]
     },
     "execution_count": 149,
     "metadata": {},
     "output_type": "execute_result"
    }
   ],
   "source": [
    "air_w_price.reset_index()"
   ]
  },
  {
   "cell_type": "markdown",
   "metadata": {},
   "source": [
    "Monthly Price Mean"
   ]
  },
  {
   "cell_type": "code",
   "execution_count": 150,
   "metadata": {},
   "outputs": [],
   "source": [
    "air_m_price=air.groupby(\"Country\")[\"Monthly Price\"].mean().sort_values(ascending=False)"
   ]
  },
  {
   "cell_type": "code",
   "execution_count": 152,
   "metadata": {},
   "outputs": [],
   "source": [
    "air.dropna(subset=\"Monthly Price\",inplace=True)"
   ]
  },
  {
   "cell_type": "code",
   "execution_count": 153,
   "metadata": {},
   "outputs": [
    {
     "data": {
      "text/html": [
       "<div>\n",
       "<style scoped>\n",
       "    .dataframe tbody tr th:only-of-type {\n",
       "        vertical-align: middle;\n",
       "    }\n",
       "\n",
       "    .dataframe tbody tr th {\n",
       "        vertical-align: top;\n",
       "    }\n",
       "\n",
       "    .dataframe thead th {\n",
       "        text-align: right;\n",
       "    }\n",
       "</style>\n",
       "<table border=\"1\" class=\"dataframe\">\n",
       "  <thead>\n",
       "    <tr style=\"text-align: right;\">\n",
       "      <th></th>\n",
       "      <th>Country</th>\n",
       "      <th>Monthly Price</th>\n",
       "    </tr>\n",
       "  </thead>\n",
       "  <tbody>\n",
       "    <tr>\n",
       "      <th>0</th>\n",
       "      <td>Hong Kong</td>\n",
       "      <td>3041.571429</td>\n",
       "    </tr>\n",
       "    <tr>\n",
       "      <th>1</th>\n",
       "      <td>China</td>\n",
       "      <td>2834.666667</td>\n",
       "    </tr>\n",
       "    <tr>\n",
       "      <th>2</th>\n",
       "      <td>Australia</td>\n",
       "      <td>2165.302242</td>\n",
       "    </tr>\n",
       "    <tr>\n",
       "      <th>3</th>\n",
       "      <td>Netherlands</td>\n",
       "      <td>2071.452254</td>\n",
       "    </tr>\n",
       "    <tr>\n",
       "      <th>4</th>\n",
       "      <td>Switzerland</td>\n",
       "      <td>1957.135135</td>\n",
       "    </tr>\n",
       "    <tr>\n",
       "      <th>5</th>\n",
       "      <td>United States</td>\n",
       "      <td>1951.013783</td>\n",
       "    </tr>\n",
       "    <tr>\n",
       "      <th>6</th>\n",
       "      <td>Denmark</td>\n",
       "      <td>1932.040000</td>\n",
       "    </tr>\n",
       "    <tr>\n",
       "      <th>7</th>\n",
       "      <td>France</td>\n",
       "      <td>1662.757951</td>\n",
       "    </tr>\n",
       "    <tr>\n",
       "      <th>8</th>\n",
       "      <td>Ireland</td>\n",
       "      <td>1656.386236</td>\n",
       "    </tr>\n",
       "    <tr>\n",
       "      <th>9</th>\n",
       "      <td>United Kingdom</td>\n",
       "      <td>1598.955061</td>\n",
       "    </tr>\n",
       "    <tr>\n",
       "      <th>10</th>\n",
       "      <td>Italy</td>\n",
       "      <td>1597.292273</td>\n",
       "    </tr>\n",
       "    <tr>\n",
       "      <th>11</th>\n",
       "      <td>Canada</td>\n",
       "      <td>1596.565247</td>\n",
       "    </tr>\n",
       "    <tr>\n",
       "      <th>12</th>\n",
       "      <td>Austria</td>\n",
       "      <td>1284.845714</td>\n",
       "    </tr>\n",
       "    <tr>\n",
       "      <th>13</th>\n",
       "      <td>Spain</td>\n",
       "      <td>1273.269460</td>\n",
       "    </tr>\n",
       "    <tr>\n",
       "      <th>14</th>\n",
       "      <td>Belgium</td>\n",
       "      <td>1256.454122</td>\n",
       "    </tr>\n",
       "    <tr>\n",
       "      <th>15</th>\n",
       "      <td>Germany</td>\n",
       "      <td>1069.739493</td>\n",
       "    </tr>\n",
       "    <tr>\n",
       "      <th>16</th>\n",
       "      <td>Greece</td>\n",
       "      <td>1019.617647</td>\n",
       "    </tr>\n",
       "  </tbody>\n",
       "</table>\n",
       "</div>"
      ],
      "text/plain": [
       "           Country  Monthly Price\n",
       "0        Hong Kong    3041.571429\n",
       "1            China    2834.666667\n",
       "2        Australia    2165.302242\n",
       "3      Netherlands    2071.452254\n",
       "4      Switzerland    1957.135135\n",
       "5    United States    1951.013783\n",
       "6          Denmark    1932.040000\n",
       "7           France    1662.757951\n",
       "8          Ireland    1656.386236\n",
       "9   United Kingdom    1598.955061\n",
       "10           Italy    1597.292273\n",
       "11          Canada    1596.565247\n",
       "12         Austria    1284.845714\n",
       "13           Spain    1273.269460\n",
       "14         Belgium    1256.454122\n",
       "15         Germany    1069.739493\n",
       "16          Greece    1019.617647"
      ]
     },
     "execution_count": 153,
     "metadata": {},
     "output_type": "execute_result"
    }
   ],
   "source": [
    "air_m_price.reset_index()"
   ]
  },
  {
   "cell_type": "markdown",
   "metadata": {},
   "source": [
    "Price mean"
   ]
  },
  {
   "cell_type": "code",
   "execution_count": 161,
   "metadata": {},
   "outputs": [],
   "source": [
    "air_price=air.groupby(\"Country\")[\"Price\"].mean().sort_values(ascending=False)"
   ]
  },
  {
   "cell_type": "code",
   "execution_count": 162,
   "metadata": {},
   "outputs": [],
   "source": [
    "air.dropna(subset=\"Price\",inplace=True)"
   ]
  },
  {
   "cell_type": "code",
   "execution_count": 163,
   "metadata": {},
   "outputs": [
    {
     "data": {
      "text/html": [
       "<div>\n",
       "<style scoped>\n",
       "    .dataframe tbody tr th:only-of-type {\n",
       "        vertical-align: middle;\n",
       "    }\n",
       "\n",
       "    .dataframe tbody tr th {\n",
       "        vertical-align: top;\n",
       "    }\n",
       "\n",
       "    .dataframe thead th {\n",
       "        text-align: right;\n",
       "    }\n",
       "</style>\n",
       "<table border=\"1\" class=\"dataframe\">\n",
       "  <thead>\n",
       "    <tr style=\"text-align: right;\">\n",
       "      <th></th>\n",
       "      <th>Country</th>\n",
       "      <th>Price</th>\n",
       "    </tr>\n",
       "  </thead>\n",
       "  <tbody>\n",
       "    <tr>\n",
       "      <th>0</th>\n",
       "      <td>Denmark</td>\n",
       "      <td>566.000000</td>\n",
       "    </tr>\n",
       "    <tr>\n",
       "      <th>1</th>\n",
       "      <td>Hong Kong</td>\n",
       "      <td>217.846154</td>\n",
       "    </tr>\n",
       "    <tr>\n",
       "      <th>2</th>\n",
       "      <td>Netherlands</td>\n",
       "      <td>108.806723</td>\n",
       "    </tr>\n",
       "    <tr>\n",
       "      <th>3</th>\n",
       "      <td>China</td>\n",
       "      <td>104.000000</td>\n",
       "    </tr>\n",
       "    <tr>\n",
       "      <th>4</th>\n",
       "      <td>Australia</td>\n",
       "      <td>101.573094</td>\n",
       "    </tr>\n",
       "    <tr>\n",
       "      <th>5</th>\n",
       "      <td>United States</td>\n",
       "      <td>92.936787</td>\n",
       "    </tr>\n",
       "    <tr>\n",
       "      <th>6</th>\n",
       "      <td>Switzerland</td>\n",
       "      <td>89.435135</td>\n",
       "    </tr>\n",
       "    <tr>\n",
       "      <th>7</th>\n",
       "      <td>Ireland</td>\n",
       "      <td>82.478933</td>\n",
       "    </tr>\n",
       "    <tr>\n",
       "      <th>8</th>\n",
       "      <td>Canada</td>\n",
       "      <td>81.437944</td>\n",
       "    </tr>\n",
       "    <tr>\n",
       "      <th>9</th>\n",
       "      <td>France</td>\n",
       "      <td>78.724294</td>\n",
       "    </tr>\n",
       "    <tr>\n",
       "      <th>10</th>\n",
       "      <td>Italy</td>\n",
       "      <td>74.517007</td>\n",
       "    </tr>\n",
       "    <tr>\n",
       "      <th>11</th>\n",
       "      <td>United Kingdom</td>\n",
       "      <td>71.834231</td>\n",
       "    </tr>\n",
       "    <tr>\n",
       "      <th>12</th>\n",
       "      <td>Spain</td>\n",
       "      <td>64.331073</td>\n",
       "    </tr>\n",
       "    <tr>\n",
       "      <th>13</th>\n",
       "      <td>Austria</td>\n",
       "      <td>63.914231</td>\n",
       "    </tr>\n",
       "    <tr>\n",
       "      <th>14</th>\n",
       "      <td>Belgium</td>\n",
       "      <td>62.674202</td>\n",
       "    </tr>\n",
       "    <tr>\n",
       "      <th>15</th>\n",
       "      <td>Germany</td>\n",
       "      <td>56.753623</td>\n",
       "    </tr>\n",
       "    <tr>\n",
       "      <th>16</th>\n",
       "      <td>Greece</td>\n",
       "      <td>47.049774</td>\n",
       "    </tr>\n",
       "  </tbody>\n",
       "</table>\n",
       "</div>"
      ],
      "text/plain": [
       "           Country       Price\n",
       "0          Denmark  566.000000\n",
       "1        Hong Kong  217.846154\n",
       "2      Netherlands  108.806723\n",
       "3            China  104.000000\n",
       "4        Australia  101.573094\n",
       "5    United States   92.936787\n",
       "6      Switzerland   89.435135\n",
       "7          Ireland   82.478933\n",
       "8           Canada   81.437944\n",
       "9           France   78.724294\n",
       "10           Italy   74.517007\n",
       "11  United Kingdom   71.834231\n",
       "12           Spain   64.331073\n",
       "13         Austria   63.914231\n",
       "14         Belgium   62.674202\n",
       "15         Germany   56.753623\n",
       "16          Greece   47.049774"
      ]
     },
     "execution_count": 163,
     "metadata": {},
     "output_type": "execute_result"
    }
   ],
   "source": [
    "air_price.reset_index()"
   ]
  },
  {
   "cell_type": "code",
   "execution_count": 213,
   "metadata": {},
   "outputs": [
    {
     "data": {
      "image/png": "[encoded data removed]",
      "text/plain": [
       "<Figure size 1800x1000 with 3 Axes>"
      ]
     },
     "metadata": {},
     "output_type": "display_data"
    }
   ],
   "source": [
    "fig,ax =plt.subplots(1,3 ,figsize=(18,10))\n",
    "#Price\n",
    "ax[0].tick_params(axis='x', rotation=90)\n",
    "sns.barplot(x=air_price.index,y=air_price.values,ax=ax[0])\n",
    "ax[0].set_title('Price')\n",
    "ax[0].set_xlabel('Country')\n",
    "ax[0].set_ylabel('Mean')\n",
    "\n",
    "\n",
    "#weekly price\n",
    "ax[1].tick_params(axis='x', rotation=90)\n",
    "sns.barplot(x=air_w_price.index,y=air_w_price.values,ax=ax[1])\n",
    "ax[1].set_title('Weekly Price')\n",
    "ax[1].set_xlabel('Country')\n",
    "ax[1].set_ylabel('Mean')\n",
    "\n",
    "\n",
    "#Monthly Price\n",
    "ax[2].tick_params(axis='x', rotation=90)\n",
    "sns.barplot(x=air_m_price.index,y=air_m_price.values,ax=ax[2])\n",
    "ax[2].set_title('Monthly Price')\n",
    "ax[2].set_xlabel('Country')\n",
    "ax[2].set_ylabel('Mean')\n",
    "plt.show()\n"
   ]
  },
  {
   "cell_type": "code",
   "execution_count": 214,
   "metadata": {},
   "outputs": [
    {
     "data": {
      "text/plain": [
       "Index(['ID', 'Scrape ID', 'Last Scraped', 'Name', 'Summary', 'Space',\n",
       "       'Description', 'Experiences Offered', 'Neighborhood Overview', 'Notes',\n",
       "       'Transit', 'Access', 'Interaction', 'House Rules', 'Thumbnail Url',\n",
       "       'Medium Url', 'Picture Url', 'XL Picture Url', 'Host ID', 'Host URL',\n",
       "       'Host Name', 'Host Since', 'Host Location', 'Host About',\n",
       "       'Host Response Time', 'Host Response Rate', 'Host Acceptance Rate',\n",
       "       'Host Thumbnail Url', 'Host Picture Url', 'Host Neighbourhood',\n",
       "       'Host Listings Count', 'Host Total Listings Count',\n",
       "       'Host Verifications', 'Street', 'Neighbourhood',\n",
       "       'Neighbourhood Cleansed', 'Neighbourhood Group Cleansed', 'City',\n",
       "       'State', 'Zipcode', 'Market', 'Smart Location', 'Country Code',\n",
       "       'Country', 'Latitude', 'Longitude', 'Property Type', 'Room Type',\n",
       "       'Accommodates', 'Bathrooms', 'Bedrooms', 'Beds', 'Bed Type',\n",
       "       'Amenities', 'Square Feet', 'Price', 'Weekly Price', 'Monthly Price',\n",
       "       'Security Deposit', 'Cleaning Fee', 'Guests Included', 'Extra People',\n",
       "       'Minimum Nights', 'Maximum Nights', 'Calendar Updated',\n",
       "       'Has Availability', 'Availability 30', 'Availability 60',\n",
       "       'Availability 90', 'Availability 365', 'Calendar last Scraped',\n",
       "       'Number of Reviews', 'First Review', 'Last Review',\n",
       "       'Review Scores Rating', 'Review Scores Accuracy',\n",
       "       'Review Scores Cleanliness', 'Review Scores Checkin',\n",
       "       'Review Scores Communication', 'Review Scores Location',\n",
       "       'Review Scores Value', 'License', 'Jurisdiction Names',\n",
       "       'Cancellation Policy', 'Calculated host listings count',\n",
       "       'Reviews per Month', 'Geolocation', 'Features'],\n",
       "      dtype='object')"
      ]
     },
     "execution_count": 214,
     "metadata": {},
     "output_type": "execute_result"
    }
   ],
   "source": [
    "air.columns"
   ]
  },
  {
   "cell_type": "code",
   "execution_count": null,
   "metadata": {},
   "outputs": [],
   "source": []
  },
  {
   "cell_type": "markdown",
   "metadata": {},
   "source": [
    "En çok uçuş yapan yolcu ismi"
   ]
  },
  {
   "cell_type": "code",
   "execution_count": 221,
   "metadata": {},
   "outputs": [
    {
     "data": {
      "text/plain": [
       "9           Familie huis met tuin, Vondelpark\n",
       "10                City roof terrace apartment\n",
       "14            Cosy Family home with park view\n",
       "16          Great Apt - 4 People (Vondelpark)\n",
       "18         Appartment in centre on canal/wifi\n",
       "                         ...                 \n",
       "494894          Charming Mountain Guest House\n",
       "494896       Pirates of the Caribbean Getaway\n",
       "494918          Cozy Room No.2 in Quiet Court\n",
       "494938    Spacious rm 9min Airport 30min City\n",
       "494950      Sunny room in gorgeous Yarraville\n",
       "Name: Name, Length: 59033, dtype: object"
      ]
     },
     "execution_count": 221,
     "metadata": {},
     "output_type": "execute_result"
    }
   ],
   "source": [
    "air[\"Name\"]"
   ]
  },
  {
   "cell_type": "code",
   "execution_count": null,
   "metadata": {},
   "outputs": [],
   "source": []
  }
 ],
 "metadata": {
  "kernelspec": {
   "display_name": "Python 3",
   "language": "python",
   "name": "python3"
  },
  "language_info": {
   "codemirror_mode": {
    "name": "ipython",
    "version": 3
   },
   "file_extension": ".py",
   "mimetype": "text/x-python",
   "name": "python",
   "nbconvert_exporter": "python",
   "pygments_lexer": "ipython3",
   "version": "3.11.4"
  },
  "orig_nbformat": 4
 },
 "nbformat": 4,
 "nbformat_minor": 2
}
